{
  "nbformat": 4,
  "nbformat_minor": 0,
  "metadata": {
    "colab": {
      "provenance": [],
      "authorship_tag": "ABX9TyPGuq6wBqAihjUgFUpx/EZh",
      "include_colab_link": true
    },
    "kernelspec": {
      "name": "python3",
      "display_name": "Python 3"
    },
    "language_info": {
      "name": "python"
    }
  },
  "cells": [
    {
      "cell_type": "markdown",
      "metadata": {
        "id": "view-in-github",
        "colab_type": "text"
      },
      "source": [
        "<a href=\"https://colab.research.google.com/github/Jermish-Justin/EDA-DA/blob/main/21BDS0062_Module_2_EDA.ipynb\" target=\"_parent\"><img src=\"https://colab.research.google.com/assets/colab-badge.svg\" alt=\"Open In Colab\"/></a>"
      ]
    },
    {
      "cell_type": "markdown",
      "source": [
        "## MODULE 2\n",
        "\n",
        "Merging"
      ],
      "metadata": {
        "id": "CuxI5Ixln7RF"
      }
    },
    {
      "cell_type": "code",
      "execution_count": 20,
      "metadata": {
        "id": "K6R3jjMv3pF_"
      },
      "outputs": [],
      "source": [
        "import pandas as pd\n",
        "import numpy as np"
      ]
    },
    {
      "cell_type": "markdown",
      "source": [
        "Loading Dataset"
      ],
      "metadata": {
        "id": "ITz6d1HsoDyT"
      }
    },
    {
      "cell_type": "code",
      "source": [
        "url = 'https://raw.githubusercontent.com/salemprakash/EDA/main/Data/Males.csv'\n",
        "data = pd.read_csv(url)"
      ],
      "metadata": {
        "id": "SFDNEMo0mkXv"
      },
      "execution_count": 2,
      "outputs": []
    },
    {
      "cell_type": "markdown",
      "source": [
        "Splitting into two dataframes"
      ],
      "metadata": {
        "id": "7TeZsT85oLab"
      }
    },
    {
      "cell_type": "code",
      "source": [
        "df1 = data.iloc[:len(data)//2]  # First half\n",
        "df2 = data.iloc[len(data)//2:]  # Second half"
      ],
      "metadata": {
        "id": "adA6bafimrwR"
      },
      "execution_count": 4,
      "outputs": []
    },
    {
      "cell_type": "markdown",
      "source": [
        "Splitted Dataframe"
      ],
      "metadata": {
        "id": "D4l8hQJmoSyn"
      }
    },
    {
      "cell_type": "code",
      "source": [
        "print(df1.shape)\n",
        "df1.head(10)"
      ],
      "metadata": {
        "colab": {
          "base_uri": "https://localhost:8080/",
          "height": 504
        },
        "id": "p_9n0-YtmzRo",
        "outputId": "9c57451c-658e-4e17-a801-a1c3e06d8275"
      },
      "execution_count": 5,
      "outputs": [
        {
          "output_type": "stream",
          "name": "stdout",
          "text": [
            "(2180, 13)\n"
          ]
        },
        {
          "output_type": "execute_result",
          "data": {
            "text/plain": [
              "   rownames  nr  year  school  exper union   ethn maried health      wage  \\\n",
              "0         1  13  1980      14      1    no  other     no     no  1.197540   \n",
              "1         2  13  1981      14      2   yes  other     no     no  1.853060   \n",
              "2         3  13  1982      14      3    no  other     no     no  1.344462   \n",
              "3         4  13  1983      14      4    no  other     no     no  1.433213   \n",
              "4         5  13  1984      14      5    no  other     no     no  1.568125   \n",
              "5         6  13  1985      14      6    no  other     no     no  1.699891   \n",
              "6         7  13  1986      14      7    no  other     no     no -0.720263   \n",
              "7         8  13  1987      14      8    no  other     no     no  1.669188   \n",
              "8         9  17  1980      13      4    no  other     no     no  1.675962   \n",
              "9        10  17  1981      13      5    no  other     no     no  1.518398   \n",
              "\n",
              "                      industry                           occupation  \\\n",
              "0  Business_and_Repair_Service                      Service_Workers   \n",
              "1             Personal_Service                      Service_Workers   \n",
              "2  Business_and_Repair_Service                      Service_Workers   \n",
              "3  Business_and_Repair_Service                      Service_Workers   \n",
              "4             Personal_Service       Craftsmen, Foremen_and_kindred   \n",
              "5  Business_and_Repair_Service  Managers, Officials_and_Proprietors   \n",
              "6  Business_and_Repair_Service  Managers, Officials_and_Proprietors   \n",
              "7  Business_and_Repair_Service  Managers, Officials_and_Proprietors   \n",
              "8                        Trade  Managers, Officials_and_Proprietors   \n",
              "9                        Trade  Managers, Officials_and_Proprietors   \n",
              "\n",
              "    residence  \n",
              "0  north_east  \n",
              "1  north_east  \n",
              "2  north_east  \n",
              "3  north_east  \n",
              "4  north_east  \n",
              "5  north_east  \n",
              "6  north_east  \n",
              "7  north_east  \n",
              "8  north_east  \n",
              "9  north_east  "
            ],
            "text/html": [
              "\n",
              "  <div id=\"df-777a6ccc-6ddf-41cd-9d05-4fa6da8ca46d\" class=\"colab-df-container\">\n",
              "    <div>\n",
              "<style scoped>\n",
              "    .dataframe tbody tr th:only-of-type {\n",
              "        vertical-align: middle;\n",
              "    }\n",
              "\n",
              "    .dataframe tbody tr th {\n",
              "        vertical-align: top;\n",
              "    }\n",
              "\n",
              "    .dataframe thead th {\n",
              "        text-align: right;\n",
              "    }\n",
              "</style>\n",
              "<table border=\"1\" class=\"dataframe\">\n",
              "  <thead>\n",
              "    <tr style=\"text-align: right;\">\n",
              "      <th></th>\n",
              "      <th>rownames</th>\n",
              "      <th>nr</th>\n",
              "      <th>year</th>\n",
              "      <th>school</th>\n",
              "      <th>exper</th>\n",
              "      <th>union</th>\n",
              "      <th>ethn</th>\n",
              "      <th>maried</th>\n",
              "      <th>health</th>\n",
              "      <th>wage</th>\n",
              "      <th>industry</th>\n",
              "      <th>occupation</th>\n",
              "      <th>residence</th>\n",
              "    </tr>\n",
              "  </thead>\n",
              "  <tbody>\n",
              "    <tr>\n",
              "      <th>0</th>\n",
              "      <td>1</td>\n",
              "      <td>13</td>\n",
              "      <td>1980</td>\n",
              "      <td>14</td>\n",
              "      <td>1</td>\n",
              "      <td>no</td>\n",
              "      <td>other</td>\n",
              "      <td>no</td>\n",
              "      <td>no</td>\n",
              "      <td>1.197540</td>\n",
              "      <td>Business_and_Repair_Service</td>\n",
              "      <td>Service_Workers</td>\n",
              "      <td>north_east</td>\n",
              "    </tr>\n",
              "    <tr>\n",
              "      <th>1</th>\n",
              "      <td>2</td>\n",
              "      <td>13</td>\n",
              "      <td>1981</td>\n",
              "      <td>14</td>\n",
              "      <td>2</td>\n",
              "      <td>yes</td>\n",
              "      <td>other</td>\n",
              "      <td>no</td>\n",
              "      <td>no</td>\n",
              "      <td>1.853060</td>\n",
              "      <td>Personal_Service</td>\n",
              "      <td>Service_Workers</td>\n",
              "      <td>north_east</td>\n",
              "    </tr>\n",
              "    <tr>\n",
              "      <th>2</th>\n",
              "      <td>3</td>\n",
              "      <td>13</td>\n",
              "      <td>1982</td>\n",
              "      <td>14</td>\n",
              "      <td>3</td>\n",
              "      <td>no</td>\n",
              "      <td>other</td>\n",
              "      <td>no</td>\n",
              "      <td>no</td>\n",
              "      <td>1.344462</td>\n",
              "      <td>Business_and_Repair_Service</td>\n",
              "      <td>Service_Workers</td>\n",
              "      <td>north_east</td>\n",
              "    </tr>\n",
              "    <tr>\n",
              "      <th>3</th>\n",
              "      <td>4</td>\n",
              "      <td>13</td>\n",
              "      <td>1983</td>\n",
              "      <td>14</td>\n",
              "      <td>4</td>\n",
              "      <td>no</td>\n",
              "      <td>other</td>\n",
              "      <td>no</td>\n",
              "      <td>no</td>\n",
              "      <td>1.433213</td>\n",
              "      <td>Business_and_Repair_Service</td>\n",
              "      <td>Service_Workers</td>\n",
              "      <td>north_east</td>\n",
              "    </tr>\n",
              "    <tr>\n",
              "      <th>4</th>\n",
              "      <td>5</td>\n",
              "      <td>13</td>\n",
              "      <td>1984</td>\n",
              "      <td>14</td>\n",
              "      <td>5</td>\n",
              "      <td>no</td>\n",
              "      <td>other</td>\n",
              "      <td>no</td>\n",
              "      <td>no</td>\n",
              "      <td>1.568125</td>\n",
              "      <td>Personal_Service</td>\n",
              "      <td>Craftsmen, Foremen_and_kindred</td>\n",
              "      <td>north_east</td>\n",
              "    </tr>\n",
              "    <tr>\n",
              "      <th>5</th>\n",
              "      <td>6</td>\n",
              "      <td>13</td>\n",
              "      <td>1985</td>\n",
              "      <td>14</td>\n",
              "      <td>6</td>\n",
              "      <td>no</td>\n",
              "      <td>other</td>\n",
              "      <td>no</td>\n",
              "      <td>no</td>\n",
              "      <td>1.699891</td>\n",
              "      <td>Business_and_Repair_Service</td>\n",
              "      <td>Managers, Officials_and_Proprietors</td>\n",
              "      <td>north_east</td>\n",
              "    </tr>\n",
              "    <tr>\n",
              "      <th>6</th>\n",
              "      <td>7</td>\n",
              "      <td>13</td>\n",
              "      <td>1986</td>\n",
              "      <td>14</td>\n",
              "      <td>7</td>\n",
              "      <td>no</td>\n",
              "      <td>other</td>\n",
              "      <td>no</td>\n",
              "      <td>no</td>\n",
              "      <td>-0.720263</td>\n",
              "      <td>Business_and_Repair_Service</td>\n",
              "      <td>Managers, Officials_and_Proprietors</td>\n",
              "      <td>north_east</td>\n",
              "    </tr>\n",
              "    <tr>\n",
              "      <th>7</th>\n",
              "      <td>8</td>\n",
              "      <td>13</td>\n",
              "      <td>1987</td>\n",
              "      <td>14</td>\n",
              "      <td>8</td>\n",
              "      <td>no</td>\n",
              "      <td>other</td>\n",
              "      <td>no</td>\n",
              "      <td>no</td>\n",
              "      <td>1.669188</td>\n",
              "      <td>Business_and_Repair_Service</td>\n",
              "      <td>Managers, Officials_and_Proprietors</td>\n",
              "      <td>north_east</td>\n",
              "    </tr>\n",
              "    <tr>\n",
              "      <th>8</th>\n",
              "      <td>9</td>\n",
              "      <td>17</td>\n",
              "      <td>1980</td>\n",
              "      <td>13</td>\n",
              "      <td>4</td>\n",
              "      <td>no</td>\n",
              "      <td>other</td>\n",
              "      <td>no</td>\n",
              "      <td>no</td>\n",
              "      <td>1.675962</td>\n",
              "      <td>Trade</td>\n",
              "      <td>Managers, Officials_and_Proprietors</td>\n",
              "      <td>north_east</td>\n",
              "    </tr>\n",
              "    <tr>\n",
              "      <th>9</th>\n",
              "      <td>10</td>\n",
              "      <td>17</td>\n",
              "      <td>1981</td>\n",
              "      <td>13</td>\n",
              "      <td>5</td>\n",
              "      <td>no</td>\n",
              "      <td>other</td>\n",
              "      <td>no</td>\n",
              "      <td>no</td>\n",
              "      <td>1.518398</td>\n",
              "      <td>Trade</td>\n",
              "      <td>Managers, Officials_and_Proprietors</td>\n",
              "      <td>north_east</td>\n",
              "    </tr>\n",
              "  </tbody>\n",
              "</table>\n",
              "</div>\n",
              "    <div class=\"colab-df-buttons\">\n",
              "\n",
              "  <div class=\"colab-df-container\">\n",
              "    <button class=\"colab-df-convert\" onclick=\"convertToInteractive('df-777a6ccc-6ddf-41cd-9d05-4fa6da8ca46d')\"\n",
              "            title=\"Convert this dataframe to an interactive table.\"\n",
              "            style=\"display:none;\">\n",
              "\n",
              "  <svg xmlns=\"http://www.w3.org/2000/svg\" height=\"24px\" viewBox=\"0 -960 960 960\">\n",
              "    <path d=\"M120-120v-720h720v720H120Zm60-500h600v-160H180v160Zm220 220h160v-160H400v160Zm0 220h160v-160H400v160ZM180-400h160v-160H180v160Zm440 0h160v-160H620v160ZM180-180h160v-160H180v160Zm440 0h160v-160H620v160Z\"/>\n",
              "  </svg>\n",
              "    </button>\n",
              "\n",
              "  <style>\n",
              "    .colab-df-container {\n",
              "      display:flex;\n",
              "      gap: 12px;\n",
              "    }\n",
              "\n",
              "    .colab-df-convert {\n",
              "      background-color: #E8F0FE;\n",
              "      border: none;\n",
              "      border-radius: 50%;\n",
              "      cursor: pointer;\n",
              "      display: none;\n",
              "      fill: #1967D2;\n",
              "      height: 32px;\n",
              "      padding: 0 0 0 0;\n",
              "      width: 32px;\n",
              "    }\n",
              "\n",
              "    .colab-df-convert:hover {\n",
              "      background-color: #E2EBFA;\n",
              "      box-shadow: 0px 1px 2px rgba(60, 64, 67, 0.3), 0px 1px 3px 1px rgba(60, 64, 67, 0.15);\n",
              "      fill: #174EA6;\n",
              "    }\n",
              "\n",
              "    .colab-df-buttons div {\n",
              "      margin-bottom: 4px;\n",
              "    }\n",
              "\n",
              "    [theme=dark] .colab-df-convert {\n",
              "      background-color: #3B4455;\n",
              "      fill: #D2E3FC;\n",
              "    }\n",
              "\n",
              "    [theme=dark] .colab-df-convert:hover {\n",
              "      background-color: #434B5C;\n",
              "      box-shadow: 0px 1px 3px 1px rgba(0, 0, 0, 0.15);\n",
              "      filter: drop-shadow(0px 1px 2px rgba(0, 0, 0, 0.3));\n",
              "      fill: #FFFFFF;\n",
              "    }\n",
              "  </style>\n",
              "\n",
              "    <script>\n",
              "      const buttonEl =\n",
              "        document.querySelector('#df-777a6ccc-6ddf-41cd-9d05-4fa6da8ca46d button.colab-df-convert');\n",
              "      buttonEl.style.display =\n",
              "        google.colab.kernel.accessAllowed ? 'block' : 'none';\n",
              "\n",
              "      async function convertToInteractive(key) {\n",
              "        const element = document.querySelector('#df-777a6ccc-6ddf-41cd-9d05-4fa6da8ca46d');\n",
              "        const dataTable =\n",
              "          await google.colab.kernel.invokeFunction('convertToInteractive',\n",
              "                                                    [key], {});\n",
              "        if (!dataTable) return;\n",
              "\n",
              "        const docLinkHtml = 'Like what you see? Visit the ' +\n",
              "          '<a target=\"_blank\" href=https://colab.research.google.com/notebooks/data_table.ipynb>data table notebook</a>'\n",
              "          + ' to learn more about interactive tables.';\n",
              "        element.innerHTML = '';\n",
              "        dataTable['output_type'] = 'display_data';\n",
              "        await google.colab.output.renderOutput(dataTable, element);\n",
              "        const docLink = document.createElement('div');\n",
              "        docLink.innerHTML = docLinkHtml;\n",
              "        element.appendChild(docLink);\n",
              "      }\n",
              "    </script>\n",
              "  </div>\n",
              "\n",
              "\n",
              "<div id=\"df-99345780-b517-46a6-a497-cb2e9f7d1fe2\">\n",
              "  <button class=\"colab-df-quickchart\" onclick=\"quickchart('df-99345780-b517-46a6-a497-cb2e9f7d1fe2')\"\n",
              "            title=\"Suggest charts\"\n",
              "            style=\"display:none;\">\n",
              "\n",
              "<svg xmlns=\"http://www.w3.org/2000/svg\" height=\"24px\"viewBox=\"0 0 24 24\"\n",
              "     width=\"24px\">\n",
              "    <g>\n",
              "        <path d=\"M19 3H5c-1.1 0-2 .9-2 2v14c0 1.1.9 2 2 2h14c1.1 0 2-.9 2-2V5c0-1.1-.9-2-2-2zM9 17H7v-7h2v7zm4 0h-2V7h2v10zm4 0h-2v-4h2v4z\"/>\n",
              "    </g>\n",
              "</svg>\n",
              "  </button>\n",
              "\n",
              "<style>\n",
              "  .colab-df-quickchart {\n",
              "      --bg-color: #E8F0FE;\n",
              "      --fill-color: #1967D2;\n",
              "      --hover-bg-color: #E2EBFA;\n",
              "      --hover-fill-color: #174EA6;\n",
              "      --disabled-fill-color: #AAA;\n",
              "      --disabled-bg-color: #DDD;\n",
              "  }\n",
              "\n",
              "  [theme=dark] .colab-df-quickchart {\n",
              "      --bg-color: #3B4455;\n",
              "      --fill-color: #D2E3FC;\n",
              "      --hover-bg-color: #434B5C;\n",
              "      --hover-fill-color: #FFFFFF;\n",
              "      --disabled-bg-color: #3B4455;\n",
              "      --disabled-fill-color: #666;\n",
              "  }\n",
              "\n",
              "  .colab-df-quickchart {\n",
              "    background-color: var(--bg-color);\n",
              "    border: none;\n",
              "    border-radius: 50%;\n",
              "    cursor: pointer;\n",
              "    display: none;\n",
              "    fill: var(--fill-color);\n",
              "    height: 32px;\n",
              "    padding: 0;\n",
              "    width: 32px;\n",
              "  }\n",
              "\n",
              "  .colab-df-quickchart:hover {\n",
              "    background-color: var(--hover-bg-color);\n",
              "    box-shadow: 0 1px 2px rgba(60, 64, 67, 0.3), 0 1px 3px 1px rgba(60, 64, 67, 0.15);\n",
              "    fill: var(--button-hover-fill-color);\n",
              "  }\n",
              "\n",
              "  .colab-df-quickchart-complete:disabled,\n",
              "  .colab-df-quickchart-complete:disabled:hover {\n",
              "    background-color: var(--disabled-bg-color);\n",
              "    fill: var(--disabled-fill-color);\n",
              "    box-shadow: none;\n",
              "  }\n",
              "\n",
              "  .colab-df-spinner {\n",
              "    border: 2px solid var(--fill-color);\n",
              "    border-color: transparent;\n",
              "    border-bottom-color: var(--fill-color);\n",
              "    animation:\n",
              "      spin 1s steps(1) infinite;\n",
              "  }\n",
              "\n",
              "  @keyframes spin {\n",
              "    0% {\n",
              "      border-color: transparent;\n",
              "      border-bottom-color: var(--fill-color);\n",
              "      border-left-color: var(--fill-color);\n",
              "    }\n",
              "    20% {\n",
              "      border-color: transparent;\n",
              "      border-left-color: var(--fill-color);\n",
              "      border-top-color: var(--fill-color);\n",
              "    }\n",
              "    30% {\n",
              "      border-color: transparent;\n",
              "      border-left-color: var(--fill-color);\n",
              "      border-top-color: var(--fill-color);\n",
              "      border-right-color: var(--fill-color);\n",
              "    }\n",
              "    40% {\n",
              "      border-color: transparent;\n",
              "      border-right-color: var(--fill-color);\n",
              "      border-top-color: var(--fill-color);\n",
              "    }\n",
              "    60% {\n",
              "      border-color: transparent;\n",
              "      border-right-color: var(--fill-color);\n",
              "    }\n",
              "    80% {\n",
              "      border-color: transparent;\n",
              "      border-right-color: var(--fill-color);\n",
              "      border-bottom-color: var(--fill-color);\n",
              "    }\n",
              "    90% {\n",
              "      border-color: transparent;\n",
              "      border-bottom-color: var(--fill-color);\n",
              "    }\n",
              "  }\n",
              "</style>\n",
              "\n",
              "  <script>\n",
              "    async function quickchart(key) {\n",
              "      const quickchartButtonEl =\n",
              "        document.querySelector('#' + key + ' button');\n",
              "      quickchartButtonEl.disabled = true;  // To prevent multiple clicks.\n",
              "      quickchartButtonEl.classList.add('colab-df-spinner');\n",
              "      try {\n",
              "        const charts = await google.colab.kernel.invokeFunction(\n",
              "            'suggestCharts', [key], {});\n",
              "      } catch (error) {\n",
              "        console.error('Error during call to suggestCharts:', error);\n",
              "      }\n",
              "      quickchartButtonEl.classList.remove('colab-df-spinner');\n",
              "      quickchartButtonEl.classList.add('colab-df-quickchart-complete');\n",
              "    }\n",
              "    (() => {\n",
              "      let quickchartButtonEl =\n",
              "        document.querySelector('#df-99345780-b517-46a6-a497-cb2e9f7d1fe2 button');\n",
              "      quickchartButtonEl.style.display =\n",
              "        google.colab.kernel.accessAllowed ? 'block' : 'none';\n",
              "    })();\n",
              "  </script>\n",
              "</div>\n",
              "\n",
              "    </div>\n",
              "  </div>\n"
            ],
            "application/vnd.google.colaboratory.intrinsic+json": {
              "type": "dataframe",
              "variable_name": "df1",
              "summary": "{\n  \"name\": \"df1\",\n  \"rows\": 2180,\n  \"fields\": [\n    {\n      \"column\": \"rownames\",\n      \"properties\": {\n        \"dtype\": \"number\",\n        \"std\": 629,\n        \"min\": 1,\n        \"max\": 2180,\n        \"num_unique_values\": 2180,\n        \"samples\": [\n          283,\n          480,\n          1065\n        ],\n        \"semantic_type\": \"\",\n        \"description\": \"\"\n      }\n    },\n    {\n      \"column\": \"nr\",\n      \"properties\": {\n        \"dtype\": \"number\",\n        \"std\": 1279,\n        \"min\": 13,\n        \"max\": 4569,\n        \"num_unique_values\": 273,\n        \"samples\": [\n          647,\n          2038,\n          1311\n        ],\n        \"semantic_type\": \"\",\n        \"description\": \"\"\n      }\n    },\n    {\n      \"column\": \"year\",\n      \"properties\": {\n        \"dtype\": \"number\",\n        \"std\": 2,\n        \"min\": 1980,\n        \"max\": 1987,\n        \"num_unique_values\": 8,\n        \"samples\": [\n          1981,\n          1985,\n          1980\n        ],\n        \"semantic_type\": \"\",\n        \"description\": \"\"\n      }\n    },\n    {\n      \"column\": \"school\",\n      \"properties\": {\n        \"dtype\": \"number\",\n        \"std\": 1,\n        \"min\": 6,\n        \"max\": 16,\n        \"num_unique_values\": 11,\n        \"samples\": [\n          15,\n          14,\n          16\n        ],\n        \"semantic_type\": \"\",\n        \"description\": \"\"\n      }\n    },\n    {\n      \"column\": \"exper\",\n      \"properties\": {\n        \"dtype\": \"number\",\n        \"std\": 2,\n        \"min\": 0,\n        \"max\": 16,\n        \"num_unique_values\": 17,\n        \"samples\": [\n          1,\n          2,\n          6\n        ],\n        \"semantic_type\": \"\",\n        \"description\": \"\"\n      }\n    },\n    {\n      \"column\": \"union\",\n      \"properties\": {\n        \"dtype\": \"category\",\n        \"num_unique_values\": 2,\n        \"samples\": [\n          \"yes\",\n          \"no\"\n        ],\n        \"semantic_type\": \"\",\n        \"description\": \"\"\n      }\n    },\n    {\n      \"column\": \"ethn\",\n      \"properties\": {\n        \"dtype\": \"category\",\n        \"num_unique_values\": 3,\n        \"samples\": [\n          \"other\",\n          \"black\"\n        ],\n        \"semantic_type\": \"\",\n        \"description\": \"\"\n      }\n    },\n    {\n      \"column\": \"maried\",\n      \"properties\": {\n        \"dtype\": \"category\",\n        \"num_unique_values\": 2,\n        \"samples\": [\n          \"yes\",\n          \"no\"\n        ],\n        \"semantic_type\": \"\",\n        \"description\": \"\"\n      }\n    },\n    {\n      \"column\": \"health\",\n      \"properties\": {\n        \"dtype\": \"category\",\n        \"num_unique_values\": 2,\n        \"samples\": [\n          \"yes\",\n          \"no\"\n        ],\n        \"semantic_type\": \"\",\n        \"description\": \"\"\n      }\n    },\n    {\n      \"column\": \"wage\",\n      \"properties\": {\n        \"dtype\": \"number\",\n        \"std\": 0.5274972186558814,\n        \"min\": -3.579078715,\n        \"max\": 3.4493633504,\n        \"num_unique_values\": 1925,\n        \"samples\": [\n          1.1058095555,\n          2.2421621722\n        ],\n        \"semantic_type\": \"\",\n        \"description\": \"\"\n      }\n    },\n    {\n      \"column\": \"industry\",\n      \"properties\": {\n        \"dtype\": \"category\",\n        \"num_unique_values\": 12,\n        \"samples\": [\n          \"Agricultural\",\n          \"Public_Administration\"\n        ],\n        \"semantic_type\": \"\",\n        \"description\": \"\"\n      }\n    },\n    {\n      \"column\": \"occupation\",\n      \"properties\": {\n        \"dtype\": \"category\",\n        \"num_unique_values\": 9,\n        \"samples\": [\n          \"Professional, Technical_and_kindred\",\n          \"Craftsmen, Foremen_and_kindred\"\n        ],\n        \"semantic_type\": \"\",\n        \"description\": \"\"\n      }\n    },\n    {\n      \"column\": \"residence\",\n      \"properties\": {\n        \"dtype\": \"category\",\n        \"num_unique_values\": 4,\n        \"samples\": [\n          \"south\",\n          \"rural_area\"\n        ],\n        \"semantic_type\": \"\",\n        \"description\": \"\"\n      }\n    }\n  ]\n}"
            }
          },
          "metadata": {},
          "execution_count": 5
        }
      ]
    },
    {
      "cell_type": "code",
      "source": [
        "print(df2.shape)\n",
        "df2.head(10)"
      ],
      "metadata": {
        "colab": {
          "base_uri": "https://localhost:8080/",
          "height": 417
        },
        "id": "HSFJiL1lm32u",
        "outputId": "93e470cd-a2c7-4b1d-88ce-cd9d1b38b453"
      },
      "execution_count": 6,
      "outputs": [
        {
          "output_type": "stream",
          "name": "stdout",
          "text": [
            "(2180, 13)\n"
          ]
        },
        {
          "output_type": "execute_result",
          "data": {
            "text/plain": [
              "      rownames    nr  year  school  exper union   ethn maried health  \\\n",
              "2180      2181  4569  1984      12      5   yes  other     no     no   \n",
              "2181      2182  4569  1985      12      6   yes  other     no     no   \n",
              "2182      2183  4569  1986      12      7   yes  other    yes     no   \n",
              "2183      2184  4569  1987      12      8   yes  other    yes     no   \n",
              "2184      2185  4603  1980      11      2   yes  other     no     no   \n",
              "2185      2186  4603  1981      11      3   yes  other     no     no   \n",
              "2186      2187  4603  1982      11      4   yes  other     no     no   \n",
              "2187      2188  4603  1983      11      5   yes  other     no     no   \n",
              "2188      2189  4603  1984      11      6   yes  other     no     no   \n",
              "2189      2190  4603  1985      11      7   yes  other     no     no   \n",
              "\n",
              "          wage industry                           occupation residence  \n",
              "2180  2.367185    Trade                 Laborers_and_farmers       NaN  \n",
              "2181  2.129068    Trade                 Laborers_and_farmers       NaN  \n",
              "2182  2.033576    Trade                 Laborers_and_farmers       NaN  \n",
              "2183  2.035432    Trade  Managers, Officials_and_Proprietors       NaN  \n",
              "2184  2.055204    Trade                 Laborers_and_farmers       NaN  \n",
              "2185  1.997862    Trade                 Laborers_and_farmers       NaN  \n",
              "2186  2.038810    Trade                        Sales_Workers       NaN  \n",
              "2187  2.174104    Trade                 Clerical_and_kindred       NaN  \n",
              "2188  1.988279    Trade                 Clerical_and_kindred       NaN  \n",
              "2189  1.921912    Trade                 Laborers_and_farmers       NaN  "
            ],
            "text/html": [
              "\n",
              "  <div id=\"df-abc2a6f4-8046-407a-9c23-c3e517f0d9ee\" class=\"colab-df-container\">\n",
              "    <div>\n",
              "<style scoped>\n",
              "    .dataframe tbody tr th:only-of-type {\n",
              "        vertical-align: middle;\n",
              "    }\n",
              "\n",
              "    .dataframe tbody tr th {\n",
              "        vertical-align: top;\n",
              "    }\n",
              "\n",
              "    .dataframe thead th {\n",
              "        text-align: right;\n",
              "    }\n",
              "</style>\n",
              "<table border=\"1\" class=\"dataframe\">\n",
              "  <thead>\n",
              "    <tr style=\"text-align: right;\">\n",
              "      <th></th>\n",
              "      <th>rownames</th>\n",
              "      <th>nr</th>\n",
              "      <th>year</th>\n",
              "      <th>school</th>\n",
              "      <th>exper</th>\n",
              "      <th>union</th>\n",
              "      <th>ethn</th>\n",
              "      <th>maried</th>\n",
              "      <th>health</th>\n",
              "      <th>wage</th>\n",
              "      <th>industry</th>\n",
              "      <th>occupation</th>\n",
              "      <th>residence</th>\n",
              "    </tr>\n",
              "  </thead>\n",
              "  <tbody>\n",
              "    <tr>\n",
              "      <th>2180</th>\n",
              "      <td>2181</td>\n",
              "      <td>4569</td>\n",
              "      <td>1984</td>\n",
              "      <td>12</td>\n",
              "      <td>5</td>\n",
              "      <td>yes</td>\n",
              "      <td>other</td>\n",
              "      <td>no</td>\n",
              "      <td>no</td>\n",
              "      <td>2.367185</td>\n",
              "      <td>Trade</td>\n",
              "      <td>Laborers_and_farmers</td>\n",
              "      <td>NaN</td>\n",
              "    </tr>\n",
              "    <tr>\n",
              "      <th>2181</th>\n",
              "      <td>2182</td>\n",
              "      <td>4569</td>\n",
              "      <td>1985</td>\n",
              "      <td>12</td>\n",
              "      <td>6</td>\n",
              "      <td>yes</td>\n",
              "      <td>other</td>\n",
              "      <td>no</td>\n",
              "      <td>no</td>\n",
              "      <td>2.129068</td>\n",
              "      <td>Trade</td>\n",
              "      <td>Laborers_and_farmers</td>\n",
              "      <td>NaN</td>\n",
              "    </tr>\n",
              "    <tr>\n",
              "      <th>2182</th>\n",
              "      <td>2183</td>\n",
              "      <td>4569</td>\n",
              "      <td>1986</td>\n",
              "      <td>12</td>\n",
              "      <td>7</td>\n",
              "      <td>yes</td>\n",
              "      <td>other</td>\n",
              "      <td>yes</td>\n",
              "      <td>no</td>\n",
              "      <td>2.033576</td>\n",
              "      <td>Trade</td>\n",
              "      <td>Laborers_and_farmers</td>\n",
              "      <td>NaN</td>\n",
              "    </tr>\n",
              "    <tr>\n",
              "      <th>2183</th>\n",
              "      <td>2184</td>\n",
              "      <td>4569</td>\n",
              "      <td>1987</td>\n",
              "      <td>12</td>\n",
              "      <td>8</td>\n",
              "      <td>yes</td>\n",
              "      <td>other</td>\n",
              "      <td>yes</td>\n",
              "      <td>no</td>\n",
              "      <td>2.035432</td>\n",
              "      <td>Trade</td>\n",
              "      <td>Managers, Officials_and_Proprietors</td>\n",
              "      <td>NaN</td>\n",
              "    </tr>\n",
              "    <tr>\n",
              "      <th>2184</th>\n",
              "      <td>2185</td>\n",
              "      <td>4603</td>\n",
              "      <td>1980</td>\n",
              "      <td>11</td>\n",
              "      <td>2</td>\n",
              "      <td>yes</td>\n",
              "      <td>other</td>\n",
              "      <td>no</td>\n",
              "      <td>no</td>\n",
              "      <td>2.055204</td>\n",
              "      <td>Trade</td>\n",
              "      <td>Laborers_and_farmers</td>\n",
              "      <td>NaN</td>\n",
              "    </tr>\n",
              "    <tr>\n",
              "      <th>2185</th>\n",
              "      <td>2186</td>\n",
              "      <td>4603</td>\n",
              "      <td>1981</td>\n",
              "      <td>11</td>\n",
              "      <td>3</td>\n",
              "      <td>yes</td>\n",
              "      <td>other</td>\n",
              "      <td>no</td>\n",
              "      <td>no</td>\n",
              "      <td>1.997862</td>\n",
              "      <td>Trade</td>\n",
              "      <td>Laborers_and_farmers</td>\n",
              "      <td>NaN</td>\n",
              "    </tr>\n",
              "    <tr>\n",
              "      <th>2186</th>\n",
              "      <td>2187</td>\n",
              "      <td>4603</td>\n",
              "      <td>1982</td>\n",
              "      <td>11</td>\n",
              "      <td>4</td>\n",
              "      <td>yes</td>\n",
              "      <td>other</td>\n",
              "      <td>no</td>\n",
              "      <td>no</td>\n",
              "      <td>2.038810</td>\n",
              "      <td>Trade</td>\n",
              "      <td>Sales_Workers</td>\n",
              "      <td>NaN</td>\n",
              "    </tr>\n",
              "    <tr>\n",
              "      <th>2187</th>\n",
              "      <td>2188</td>\n",
              "      <td>4603</td>\n",
              "      <td>1983</td>\n",
              "      <td>11</td>\n",
              "      <td>5</td>\n",
              "      <td>yes</td>\n",
              "      <td>other</td>\n",
              "      <td>no</td>\n",
              "      <td>no</td>\n",
              "      <td>2.174104</td>\n",
              "      <td>Trade</td>\n",
              "      <td>Clerical_and_kindred</td>\n",
              "      <td>NaN</td>\n",
              "    </tr>\n",
              "    <tr>\n",
              "      <th>2188</th>\n",
              "      <td>2189</td>\n",
              "      <td>4603</td>\n",
              "      <td>1984</td>\n",
              "      <td>11</td>\n",
              "      <td>6</td>\n",
              "      <td>yes</td>\n",
              "      <td>other</td>\n",
              "      <td>no</td>\n",
              "      <td>no</td>\n",
              "      <td>1.988279</td>\n",
              "      <td>Trade</td>\n",
              "      <td>Clerical_and_kindred</td>\n",
              "      <td>NaN</td>\n",
              "    </tr>\n",
              "    <tr>\n",
              "      <th>2189</th>\n",
              "      <td>2190</td>\n",
              "      <td>4603</td>\n",
              "      <td>1985</td>\n",
              "      <td>11</td>\n",
              "      <td>7</td>\n",
              "      <td>yes</td>\n",
              "      <td>other</td>\n",
              "      <td>no</td>\n",
              "      <td>no</td>\n",
              "      <td>1.921912</td>\n",
              "      <td>Trade</td>\n",
              "      <td>Laborers_and_farmers</td>\n",
              "      <td>NaN</td>\n",
              "    </tr>\n",
              "  </tbody>\n",
              "</table>\n",
              "</div>\n",
              "    <div class=\"colab-df-buttons\">\n",
              "\n",
              "  <div class=\"colab-df-container\">\n",
              "    <button class=\"colab-df-convert\" onclick=\"convertToInteractive('df-abc2a6f4-8046-407a-9c23-c3e517f0d9ee')\"\n",
              "            title=\"Convert this dataframe to an interactive table.\"\n",
              "            style=\"display:none;\">\n",
              "\n",
              "  <svg xmlns=\"http://www.w3.org/2000/svg\" height=\"24px\" viewBox=\"0 -960 960 960\">\n",
              "    <path d=\"M120-120v-720h720v720H120Zm60-500h600v-160H180v160Zm220 220h160v-160H400v160Zm0 220h160v-160H400v160ZM180-400h160v-160H180v160Zm440 0h160v-160H620v160ZM180-180h160v-160H180v160Zm440 0h160v-160H620v160Z\"/>\n",
              "  </svg>\n",
              "    </button>\n",
              "\n",
              "  <style>\n",
              "    .colab-df-container {\n",
              "      display:flex;\n",
              "      gap: 12px;\n",
              "    }\n",
              "\n",
              "    .colab-df-convert {\n",
              "      background-color: #E8F0FE;\n",
              "      border: none;\n",
              "      border-radius: 50%;\n",
              "      cursor: pointer;\n",
              "      display: none;\n",
              "      fill: #1967D2;\n",
              "      height: 32px;\n",
              "      padding: 0 0 0 0;\n",
              "      width: 32px;\n",
              "    }\n",
              "\n",
              "    .colab-df-convert:hover {\n",
              "      background-color: #E2EBFA;\n",
              "      box-shadow: 0px 1px 2px rgba(60, 64, 67, 0.3), 0px 1px 3px 1px rgba(60, 64, 67, 0.15);\n",
              "      fill: #174EA6;\n",
              "    }\n",
              "\n",
              "    .colab-df-buttons div {\n",
              "      margin-bottom: 4px;\n",
              "    }\n",
              "\n",
              "    [theme=dark] .colab-df-convert {\n",
              "      background-color: #3B4455;\n",
              "      fill: #D2E3FC;\n",
              "    }\n",
              "\n",
              "    [theme=dark] .colab-df-convert:hover {\n",
              "      background-color: #434B5C;\n",
              "      box-shadow: 0px 1px 3px 1px rgba(0, 0, 0, 0.15);\n",
              "      filter: drop-shadow(0px 1px 2px rgba(0, 0, 0, 0.3));\n",
              "      fill: #FFFFFF;\n",
              "    }\n",
              "  </style>\n",
              "\n",
              "    <script>\n",
              "      const buttonEl =\n",
              "        document.querySelector('#df-abc2a6f4-8046-407a-9c23-c3e517f0d9ee button.colab-df-convert');\n",
              "      buttonEl.style.display =\n",
              "        google.colab.kernel.accessAllowed ? 'block' : 'none';\n",
              "\n",
              "      async function convertToInteractive(key) {\n",
              "        const element = document.querySelector('#df-abc2a6f4-8046-407a-9c23-c3e517f0d9ee');\n",
              "        const dataTable =\n",
              "          await google.colab.kernel.invokeFunction('convertToInteractive',\n",
              "                                                    [key], {});\n",
              "        if (!dataTable) return;\n",
              "\n",
              "        const docLinkHtml = 'Like what you see? Visit the ' +\n",
              "          '<a target=\"_blank\" href=https://colab.research.google.com/notebooks/data_table.ipynb>data table notebook</a>'\n",
              "          + ' to learn more about interactive tables.';\n",
              "        element.innerHTML = '';\n",
              "        dataTable['output_type'] = 'display_data';\n",
              "        await google.colab.output.renderOutput(dataTable, element);\n",
              "        const docLink = document.createElement('div');\n",
              "        docLink.innerHTML = docLinkHtml;\n",
              "        element.appendChild(docLink);\n",
              "      }\n",
              "    </script>\n",
              "  </div>\n",
              "\n",
              "\n",
              "<div id=\"df-44a065e5-6723-406e-832a-4dce71746833\">\n",
              "  <button class=\"colab-df-quickchart\" onclick=\"quickchart('df-44a065e5-6723-406e-832a-4dce71746833')\"\n",
              "            title=\"Suggest charts\"\n",
              "            style=\"display:none;\">\n",
              "\n",
              "<svg xmlns=\"http://www.w3.org/2000/svg\" height=\"24px\"viewBox=\"0 0 24 24\"\n",
              "     width=\"24px\">\n",
              "    <g>\n",
              "        <path d=\"M19 3H5c-1.1 0-2 .9-2 2v14c0 1.1.9 2 2 2h14c1.1 0 2-.9 2-2V5c0-1.1-.9-2-2-2zM9 17H7v-7h2v7zm4 0h-2V7h2v10zm4 0h-2v-4h2v4z\"/>\n",
              "    </g>\n",
              "</svg>\n",
              "  </button>\n",
              "\n",
              "<style>\n",
              "  .colab-df-quickchart {\n",
              "      --bg-color: #E8F0FE;\n",
              "      --fill-color: #1967D2;\n",
              "      --hover-bg-color: #E2EBFA;\n",
              "      --hover-fill-color: #174EA6;\n",
              "      --disabled-fill-color: #AAA;\n",
              "      --disabled-bg-color: #DDD;\n",
              "  }\n",
              "\n",
              "  [theme=dark] .colab-df-quickchart {\n",
              "      --bg-color: #3B4455;\n",
              "      --fill-color: #D2E3FC;\n",
              "      --hover-bg-color: #434B5C;\n",
              "      --hover-fill-color: #FFFFFF;\n",
              "      --disabled-bg-color: #3B4455;\n",
              "      --disabled-fill-color: #666;\n",
              "  }\n",
              "\n",
              "  .colab-df-quickchart {\n",
              "    background-color: var(--bg-color);\n",
              "    border: none;\n",
              "    border-radius: 50%;\n",
              "    cursor: pointer;\n",
              "    display: none;\n",
              "    fill: var(--fill-color);\n",
              "    height: 32px;\n",
              "    padding: 0;\n",
              "    width: 32px;\n",
              "  }\n",
              "\n",
              "  .colab-df-quickchart:hover {\n",
              "    background-color: var(--hover-bg-color);\n",
              "    box-shadow: 0 1px 2px rgba(60, 64, 67, 0.3), 0 1px 3px 1px rgba(60, 64, 67, 0.15);\n",
              "    fill: var(--button-hover-fill-color);\n",
              "  }\n",
              "\n",
              "  .colab-df-quickchart-complete:disabled,\n",
              "  .colab-df-quickchart-complete:disabled:hover {\n",
              "    background-color: var(--disabled-bg-color);\n",
              "    fill: var(--disabled-fill-color);\n",
              "    box-shadow: none;\n",
              "  }\n",
              "\n",
              "  .colab-df-spinner {\n",
              "    border: 2px solid var(--fill-color);\n",
              "    border-color: transparent;\n",
              "    border-bottom-color: var(--fill-color);\n",
              "    animation:\n",
              "      spin 1s steps(1) infinite;\n",
              "  }\n",
              "\n",
              "  @keyframes spin {\n",
              "    0% {\n",
              "      border-color: transparent;\n",
              "      border-bottom-color: var(--fill-color);\n",
              "      border-left-color: var(--fill-color);\n",
              "    }\n",
              "    20% {\n",
              "      border-color: transparent;\n",
              "      border-left-color: var(--fill-color);\n",
              "      border-top-color: var(--fill-color);\n",
              "    }\n",
              "    30% {\n",
              "      border-color: transparent;\n",
              "      border-left-color: var(--fill-color);\n",
              "      border-top-color: var(--fill-color);\n",
              "      border-right-color: var(--fill-color);\n",
              "    }\n",
              "    40% {\n",
              "      border-color: transparent;\n",
              "      border-right-color: var(--fill-color);\n",
              "      border-top-color: var(--fill-color);\n",
              "    }\n",
              "    60% {\n",
              "      border-color: transparent;\n",
              "      border-right-color: var(--fill-color);\n",
              "    }\n",
              "    80% {\n",
              "      border-color: transparent;\n",
              "      border-right-color: var(--fill-color);\n",
              "      border-bottom-color: var(--fill-color);\n",
              "    }\n",
              "    90% {\n",
              "      border-color: transparent;\n",
              "      border-bottom-color: var(--fill-color);\n",
              "    }\n",
              "  }\n",
              "</style>\n",
              "\n",
              "  <script>\n",
              "    async function quickchart(key) {\n",
              "      const quickchartButtonEl =\n",
              "        document.querySelector('#' + key + ' button');\n",
              "      quickchartButtonEl.disabled = true;  // To prevent multiple clicks.\n",
              "      quickchartButtonEl.classList.add('colab-df-spinner');\n",
              "      try {\n",
              "        const charts = await google.colab.kernel.invokeFunction(\n",
              "            'suggestCharts', [key], {});\n",
              "      } catch (error) {\n",
              "        console.error('Error during call to suggestCharts:', error);\n",
              "      }\n",
              "      quickchartButtonEl.classList.remove('colab-df-spinner');\n",
              "      quickchartButtonEl.classList.add('colab-df-quickchart-complete');\n",
              "    }\n",
              "    (() => {\n",
              "      let quickchartButtonEl =\n",
              "        document.querySelector('#df-44a065e5-6723-406e-832a-4dce71746833 button');\n",
              "      quickchartButtonEl.style.display =\n",
              "        google.colab.kernel.accessAllowed ? 'block' : 'none';\n",
              "    })();\n",
              "  </script>\n",
              "</div>\n",
              "\n",
              "    </div>\n",
              "  </div>\n"
            ],
            "application/vnd.google.colaboratory.intrinsic+json": {
              "type": "dataframe",
              "variable_name": "df2",
              "summary": "{\n  \"name\": \"df2\",\n  \"rows\": 2180,\n  \"fields\": [\n    {\n      \"column\": \"rownames\",\n      \"properties\": {\n        \"dtype\": \"number\",\n        \"std\": 629,\n        \"min\": 2181,\n        \"max\": 4360,\n        \"num_unique_values\": 2180,\n        \"samples\": [\n          2463,\n          2660,\n          3245\n        ],\n        \"semantic_type\": \"\",\n        \"description\": \"\"\n      }\n    },\n    {\n      \"column\": \"nr\",\n      \"properties\": {\n        \"dtype\": \"number\",\n        \"std\": 2278,\n        \"min\": 4569,\n        \"max\": 12548,\n        \"num_unique_values\": 273,\n        \"samples\": [\n          5221,\n          8087,\n          6559\n        ],\n        \"semantic_type\": \"\",\n        \"description\": \"\"\n      }\n    },\n    {\n      \"column\": \"year\",\n      \"properties\": {\n        \"dtype\": \"number\",\n        \"std\": 2,\n        \"min\": 1980,\n        \"max\": 1987,\n        \"num_unique_values\": 8,\n        \"samples\": [\n          1985,\n          1981,\n          1984\n        ],\n        \"semantic_type\": \"\",\n        \"description\": \"\"\n      }\n    },\n    {\n      \"column\": \"school\",\n      \"properties\": {\n        \"dtype\": \"number\",\n        \"std\": 1,\n        \"min\": 3,\n        \"max\": 16,\n        \"num_unique_values\": 12,\n        \"samples\": [\n          3,\n          6,\n          12\n        ],\n        \"semantic_type\": \"\",\n        \"description\": \"\"\n      }\n    },\n    {\n      \"column\": \"exper\",\n      \"properties\": {\n        \"dtype\": \"number\",\n        \"std\": 2,\n        \"min\": 0,\n        \"max\": 18,\n        \"num_unique_values\": 19,\n        \"samples\": [\n          5,\n          3,\n          1\n        ],\n        \"semantic_type\": \"\",\n        \"description\": \"\"\n      }\n    },\n    {\n      \"column\": \"union\",\n      \"properties\": {\n        \"dtype\": \"category\",\n        \"num_unique_values\": 2,\n        \"samples\": [\n          \"no\",\n          \"yes\"\n        ],\n        \"semantic_type\": \"\",\n        \"description\": \"\"\n      }\n    },\n    {\n      \"column\": \"ethn\",\n      \"properties\": {\n        \"dtype\": \"category\",\n        \"num_unique_values\": 3,\n        \"samples\": [\n          \"other\",\n          \"hisp\"\n        ],\n        \"semantic_type\": \"\",\n        \"description\": \"\"\n      }\n    },\n    {\n      \"column\": \"maried\",\n      \"properties\": {\n        \"dtype\": \"category\",\n        \"num_unique_values\": 2,\n        \"samples\": [\n          \"yes\",\n          \"no\"\n        ],\n        \"semantic_type\": \"\",\n        \"description\": \"\"\n      }\n    },\n    {\n      \"column\": \"health\",\n      \"properties\": {\n        \"dtype\": \"category\",\n        \"num_unique_values\": 2,\n        \"samples\": [\n          \"yes\",\n          \"no\"\n        ],\n        \"semantic_type\": \"\",\n        \"description\": \"\"\n      }\n    },\n    {\n      \"column\": \"wage\",\n      \"properties\": {\n        \"dtype\": \"number\",\n        \"std\": 0.5360531904433148,\n        \"min\": -1.41706602,\n        \"max\": 4.0518599506,\n        \"num_unique_values\": 1899,\n        \"samples\": [\n          2.5034260807,\n          1.1961870998\n        ],\n        \"semantic_type\": \"\",\n        \"description\": \"\"\n      }\n    },\n    {\n      \"column\": \"industry\",\n      \"properties\": {\n        \"dtype\": \"category\",\n        \"num_unique_values\": 12,\n        \"samples\": [\n          \"Entertainment\",\n          \"Public_Administration\"\n        ],\n        \"semantic_type\": \"\",\n        \"description\": \"\"\n      }\n    },\n    {\n      \"column\": \"occupation\",\n      \"properties\": {\n        \"dtype\": \"category\",\n        \"num_unique_values\": 9,\n        \"samples\": [\n          \"Professional, Technical_and_kindred\",\n          \"Managers, Officials_and_Proprietors\"\n        ],\n        \"semantic_type\": \"\",\n        \"description\": \"\"\n      }\n    },\n    {\n      \"column\": \"residence\",\n      \"properties\": {\n        \"dtype\": \"category\",\n        \"num_unique_values\": 4,\n        \"samples\": [\n          \"north_east\",\n          \"south\"\n        ],\n        \"semantic_type\": \"\",\n        \"description\": \"\"\n      }\n    }\n  ]\n}"
            }
          },
          "metadata": {},
          "execution_count": 6
        }
      ]
    },
    {
      "cell_type": "markdown",
      "source": [
        "Concatenate in row"
      ],
      "metadata": {
        "id": "c-79agxUoWmB"
      }
    },
    {
      "cell_type": "code",
      "source": [
        "concat_row = pd.concat([df1, df2], ignore_index=True)\n",
        "print(\"Concatenated (row-wise):\")\n",
        "print(concat_row)"
      ],
      "metadata": {
        "colab": {
          "base_uri": "https://localhost:8080/"
        },
        "id": "NV2eomugm8fE",
        "outputId": "a5f49278-9666-492c-fb38-14f8e428f9cc"
      },
      "execution_count": 7,
      "outputs": [
        {
          "output_type": "stream",
          "name": "stdout",
          "text": [
            "Concatenated (row-wise):\n",
            "      rownames     nr  year  school  exper union   ethn maried health  \\\n",
            "0            1     13  1980      14      1    no  other     no     no   \n",
            "1            2     13  1981      14      2   yes  other     no     no   \n",
            "2            3     13  1982      14      3    no  other     no     no   \n",
            "3            4     13  1983      14      4    no  other     no     no   \n",
            "4            5     13  1984      14      5    no  other     no     no   \n",
            "...        ...    ...   ...     ...    ...   ...    ...    ...    ...   \n",
            "4355      4356  12548  1983       9      8    no  other    yes     no   \n",
            "4356      4357  12548  1984       9      9   yes  other    yes     no   \n",
            "4357      4358  12548  1985       9     10    no  other    yes     no   \n",
            "4358      4359  12548  1986       9     11   yes  other    yes     no   \n",
            "4359      4360  12548  1987       9     12   yes  other    yes     no   \n",
            "\n",
            "          wage                          industry  \\\n",
            "0     1.197540       Business_and_Repair_Service   \n",
            "1     1.853060                  Personal_Service   \n",
            "2     1.344462       Business_and_Repair_Service   \n",
            "3     1.433213       Business_and_Repair_Service   \n",
            "4     1.568125                  Personal_Service   \n",
            "...        ...                               ...   \n",
            "4355  1.591879                      Construction   \n",
            "4356  1.212543                      Construction   \n",
            "4357  1.765962                      Construction   \n",
            "4358  1.745894  Professional_and_Related Service   \n",
            "4359  1.466543             Public_Administration   \n",
            "\n",
            "                          occupation   residence  \n",
            "0                    Service_Workers  north_east  \n",
            "1                    Service_Workers  north_east  \n",
            "2                    Service_Workers  north_east  \n",
            "3                    Service_Workers  north_east  \n",
            "4     Craftsmen, Foremen_and_kindred  north_east  \n",
            "...                              ...         ...  \n",
            "4355  Craftsmen, Foremen_and_kindred         NaN  \n",
            "4356  Craftsmen, Foremen_and_kindred         NaN  \n",
            "4357  Craftsmen, Foremen_and_kindred         NaN  \n",
            "4358  Craftsmen, Foremen_and_kindred         NaN  \n",
            "4359  Craftsmen, Foremen_and_kindred         NaN  \n",
            "\n",
            "[4360 rows x 13 columns]\n"
          ]
        }
      ]
    },
    {
      "cell_type": "markdown",
      "source": [
        "Concatenate in column"
      ],
      "metadata": {
        "id": "KwIbG_OjocC4"
      }
    },
    {
      "cell_type": "code",
      "source": [
        "concat_column = pd.concat([df1, df2], axis=1)\n",
        "print(\"\\nConcatenated (column-wise):\")\n",
        "print(concat_column)"
      ],
      "metadata": {
        "colab": {
          "base_uri": "https://localhost:8080/"
        },
        "id": "Gr1R_MPUnCGX",
        "outputId": "9efd3ccc-d12e-4ed0-e2f9-316dcf8003f3"
      },
      "execution_count": 8,
      "outputs": [
        {
          "output_type": "stream",
          "name": "stdout",
          "text": [
            "\n",
            "Concatenated (column-wise):\n",
            "      rownames    nr    year school exper union   ethn  maried  health  \\\n",
            "0          1.0  13.0  1980.0   14.0   1.0    no  other      no      no   \n",
            "1          2.0  13.0  1981.0   14.0   2.0   yes  other      no      no   \n",
            "2          3.0  13.0  1982.0   14.0   3.0    no  other      no      no   \n",
            "3          4.0  13.0  1983.0   14.0   4.0    no  other      no      no   \n",
            "4          5.0  13.0  1984.0   14.0   5.0    no  other      no      no   \n",
            "...        ...   ...     ...    ...   ...   ...    ...     ...     ...   \n",
            "4355       NaN   NaN     NaN    NaN   NaN   NaN    NaN     NaN     NaN   \n",
            "4356       NaN   NaN     NaN    NaN   NaN   NaN    NaN     NaN     NaN   \n",
            "4357       NaN   NaN     NaN    NaN   NaN   NaN    NaN     NaN     NaN   \n",
            "4358       NaN   NaN     NaN    NaN   NaN   NaN    NaN     NaN     NaN   \n",
            "4359       NaN   NaN     NaN    NaN   NaN   NaN    NaN     NaN     NaN   \n",
            "\n",
            "          wage  ... school exper union   ethn  maried  health      wage  \\\n",
            "0     1.197540  ...    NaN   NaN   NaN    NaN     NaN     NaN       NaN   \n",
            "1     1.853060  ...    NaN   NaN   NaN    NaN     NaN     NaN       NaN   \n",
            "2     1.344462  ...    NaN   NaN   NaN    NaN     NaN     NaN       NaN   \n",
            "3     1.433213  ...    NaN   NaN   NaN    NaN     NaN     NaN       NaN   \n",
            "4     1.568125  ...    NaN   NaN   NaN    NaN     NaN     NaN       NaN   \n",
            "...        ...  ...    ...   ...   ...    ...     ...     ...       ...   \n",
            "4355       NaN  ...    9.0   8.0    no  other     yes      no  1.591879   \n",
            "4356       NaN  ...    9.0   9.0   yes  other     yes      no  1.212543   \n",
            "4357       NaN  ...    9.0  10.0    no  other     yes      no  1.765962   \n",
            "4358       NaN  ...    9.0  11.0   yes  other     yes      no  1.745894   \n",
            "4359       NaN  ...    9.0  12.0   yes  other     yes      no  1.466543   \n",
            "\n",
            "                              industry                      occupation  \\\n",
            "0                                  NaN                             NaN   \n",
            "1                                  NaN                             NaN   \n",
            "2                                  NaN                             NaN   \n",
            "3                                  NaN                             NaN   \n",
            "4                                  NaN                             NaN   \n",
            "...                                ...                             ...   \n",
            "4355                      Construction  Craftsmen, Foremen_and_kindred   \n",
            "4356                      Construction  Craftsmen, Foremen_and_kindred   \n",
            "4357                      Construction  Craftsmen, Foremen_and_kindred   \n",
            "4358  Professional_and_Related Service  Craftsmen, Foremen_and_kindred   \n",
            "4359             Public_Administration  Craftsmen, Foremen_and_kindred   \n",
            "\n",
            "     residence  \n",
            "0          NaN  \n",
            "1          NaN  \n",
            "2          NaN  \n",
            "3          NaN  \n",
            "4          NaN  \n",
            "...        ...  \n",
            "4355       NaN  \n",
            "4356       NaN  \n",
            "4357       NaN  \n",
            "4358       NaN  \n",
            "4359       NaN  \n",
            "\n",
            "[4360 rows x 26 columns]\n"
          ]
        }
      ]
    },
    {
      "cell_type": "markdown",
      "source": [
        "## MERGING"
      ],
      "metadata": {
        "id": "mfuRVKyEouS-"
      }
    },
    {
      "cell_type": "markdown",
      "source": [
        "Splitting the dataset"
      ],
      "metadata": {
        "id": "oP0Rut0wxjdF"
      }
    },
    {
      "cell_type": "code",
      "source": [
        "df11 = data.iloc[:len(data)//4]          # First\n",
        "df12 = data.iloc[len(data)//4:len(data)//2]  # Second\n",
        "df13 = data.iloc[len(data)//2:3*len(data)//4]  # Third\n",
        "df14 = data.iloc[3*len(data)//4:]          # Fourth"
      ],
      "metadata": {
        "id": "54Dxo-UonOwH"
      },
      "execution_count": 21,
      "outputs": []
    },
    {
      "cell_type": "markdown",
      "source": [
        "Inner Join"
      ],
      "metadata": {
        "id": "-2PG1Ou0yXdm"
      }
    },
    {
      "cell_type": "code",
      "source": [
        "df_inner = df22.merge(df44, how='inner')\n",
        "print(df_inner.shape)\n",
        "print(\"Inner Join:\")\n",
        "print(df_inner.head())"
      ],
      "metadata": {
        "colab": {
          "base_uri": "https://localhost:8080/"
        },
        "id": "H3Dn0iPLyT8x",
        "outputId": "41ccce0c-e89f-4a2e-e25d-36679518f0e4"
      },
      "execution_count": 23,
      "outputs": [
        {
          "output_type": "stream",
          "name": "stdout",
          "text": [
            "(0, 13)\n",
            "Inner Join:\n",
            "Empty DataFrame\n",
            "Columns: [rownames, nr, year, school, exper, union, ethn, maried, health, wage, industry, occupation, residence]\n",
            "Index: []\n"
          ]
        }
      ]
    },
    {
      "cell_type": "markdown",
      "source": [
        "Left Join"
      ],
      "metadata": {
        "id": "MzNo7nRWya6c"
      }
    },
    {
      "cell_type": "code",
      "source": [
        "df_left = df22.merge(df44, how='left')\n",
        "print(df_left.shape)\n",
        "print(\"Left Join:\")\n",
        "print(df_left.head())"
      ],
      "metadata": {
        "colab": {
          "base_uri": "https://localhost:8080/"
        },
        "id": "5CrnMw0QnUnX",
        "outputId": "d602c510-5517-486c-f5d4-d984cb8025c8"
      },
      "execution_count": 24,
      "outputs": [
        {
          "output_type": "stream",
          "name": "stdout",
          "text": [
            "(2180, 13)\n",
            "Left Join:\n",
            "   rownames  nr  year  school  exper union   ethn maried health      wage  \\\n",
            "0         1  13  1980      14      1    no  other     no     no  1.197540   \n",
            "1         2  13  1981      14      2   yes  other     no     no  1.853060   \n",
            "2         3  13  1982      14      3    no  other     no     no  1.344462   \n",
            "3         4  13  1983      14      4    no  other     no     no  1.433213   \n",
            "4         5  13  1984      14      5    no  other     no     no  1.568125   \n",
            "\n",
            "                      industry                      occupation   residence  \n",
            "0  Business_and_Repair_Service                 Service_Workers  north_east  \n",
            "1             Personal_Service                 Service_Workers  north_east  \n",
            "2  Business_and_Repair_Service                 Service_Workers  north_east  \n",
            "3  Business_and_Repair_Service                 Service_Workers  north_east  \n",
            "4             Personal_Service  Craftsmen, Foremen_and_kindred  north_east  \n"
          ]
        }
      ]
    },
    {
      "cell_type": "markdown",
      "source": [
        "Right Join"
      ],
      "metadata": {
        "id": "a7UKJWI_yeET"
      }
    },
    {
      "cell_type": "code",
      "source": [
        "df_right = df22.merge(df22, how='right')\n",
        "print(df_right.shape)\n",
        "print(\"Right Join:\")\n",
        "print(df_right.head())"
      ],
      "metadata": {
        "colab": {
          "base_uri": "https://localhost:8080/"
        },
        "id": "sasxvjqLnYhN",
        "outputId": "10f3d003-2c63-48b7-a33d-1fea2a9843c4"
      },
      "execution_count": 25,
      "outputs": [
        {
          "output_type": "stream",
          "name": "stdout",
          "text": [
            "(2180, 13)\n",
            "Right Join:\n",
            "   rownames  nr  year  school  exper union   ethn maried health      wage  \\\n",
            "0         1  13  1980      14      1    no  other     no     no  1.197540   \n",
            "1         2  13  1981      14      2   yes  other     no     no  1.853060   \n",
            "2         3  13  1982      14      3    no  other     no     no  1.344462   \n",
            "3         4  13  1983      14      4    no  other     no     no  1.433213   \n",
            "4         5  13  1984      14      5    no  other     no     no  1.568125   \n",
            "\n",
            "                      industry                      occupation   residence  \n",
            "0  Business_and_Repair_Service                 Service_Workers  north_east  \n",
            "1             Personal_Service                 Service_Workers  north_east  \n",
            "2  Business_and_Repair_Service                 Service_Workers  north_east  \n",
            "3  Business_and_Repair_Service                 Service_Workers  north_east  \n",
            "4             Personal_Service  Craftsmen, Foremen_and_kindred  north_east  \n"
          ]
        }
      ]
    },
    {
      "cell_type": "markdown",
      "source": [
        "Outer Join"
      ],
      "metadata": {
        "id": "mrQST0yDyi0C"
      }
    },
    {
      "cell_type": "code",
      "source": [
        "df_outer = df22.merge(df44, how='outer')\n",
        "print(df_outer.shape)\n",
        "print(\"Outer Join:\")\n",
        "print(df_outer.head())"
      ],
      "metadata": {
        "colab": {
          "base_uri": "https://localhost:8080/"
        },
        "id": "sDDMhKbVnc0_",
        "outputId": "1286b5ad-aac2-4d54-d79e-b38ee9da1e9d"
      },
      "execution_count": 26,
      "outputs": [
        {
          "output_type": "stream",
          "name": "stdout",
          "text": [
            "(4360, 13)\n",
            "Outer Join:\n",
            "   rownames  nr  year  school  exper union   ethn maried health      wage  \\\n",
            "0         1  13  1980      14      1    no  other     no     no  1.197540   \n",
            "1         2  13  1981      14      2   yes  other     no     no  1.853060   \n",
            "2         3  13  1982      14      3    no  other     no     no  1.344462   \n",
            "3         4  13  1983      14      4    no  other     no     no  1.433213   \n",
            "4         5  13  1984      14      5    no  other     no     no  1.568125   \n",
            "\n",
            "                      industry                      occupation   residence  \n",
            "0  Business_and_Repair_Service                 Service_Workers  north_east  \n",
            "1             Personal_Service                 Service_Workers  north_east  \n",
            "2  Business_and_Repair_Service                 Service_Workers  north_east  \n",
            "3  Business_and_Repair_Service                 Service_Workers  north_east  \n",
            "4             Personal_Service  Craftsmen, Foremen_and_kindred  north_east  \n"
          ]
        }
      ]
    },
    {
      "cell_type": "markdown",
      "source": [
        "# Data Deduplication"
      ],
      "metadata": {
        "id": "PigcTLNOyoCU"
      }
    },
    {
      "cell_type": "code",
      "source": [
        "deduplicated_df = data.drop_duplicates()\n",
        "print(\"Deduplicated DataFrame:\")\n",
        "print(deduplicated_df)"
      ],
      "metadata": {
        "colab": {
          "base_uri": "https://localhost:8080/"
        },
        "id": "DBs40ynVngRr",
        "outputId": "3c3b24d8-eb86-41d2-ab6e-07f1e73e16a1"
      },
      "execution_count": 15,
      "outputs": [
        {
          "output_type": "stream",
          "name": "stdout",
          "text": [
            "Deduplicated DataFrame:\n",
            "      rownames     nr  year  school  exper union   ethn maried health  \\\n",
            "0            1     13  1980      14      1    no  other     no     no   \n",
            "1            2     13  1981      14      2   yes  other     no     no   \n",
            "2            3     13  1982      14      3    no  other     no     no   \n",
            "3            4     13  1983      14      4    no  other     no     no   \n",
            "4            5     13  1984      14      5    no  other     no     no   \n",
            "...        ...    ...   ...     ...    ...   ...    ...    ...    ...   \n",
            "4355      4356  12548  1983       9      8    no  other    yes     no   \n",
            "4356      4357  12548  1984       9      9   yes  other    yes     no   \n",
            "4357      4358  12548  1985       9     10    no  other    yes     no   \n",
            "4358      4359  12548  1986       9     11   yes  other    yes     no   \n",
            "4359      4360  12548  1987       9     12   yes  other    yes     no   \n",
            "\n",
            "          wage                          industry  \\\n",
            "0     1.197540       Business_and_Repair_Service   \n",
            "1     1.853060                  Personal_Service   \n",
            "2     1.344462       Business_and_Repair_Service   \n",
            "3     1.433213       Business_and_Repair_Service   \n",
            "4     1.568125                  Personal_Service   \n",
            "...        ...                               ...   \n",
            "4355  1.591879                      Construction   \n",
            "4356  1.212543                      Construction   \n",
            "4357  1.765962                      Construction   \n",
            "4358  1.745894  Professional_and_Related Service   \n",
            "4359  1.466543             Public_Administration   \n",
            "\n",
            "                          occupation   residence  \n",
            "0                    Service_Workers  north_east  \n",
            "1                    Service_Workers  north_east  \n",
            "2                    Service_Workers  north_east  \n",
            "3                    Service_Workers  north_east  \n",
            "4     Craftsmen, Foremen_and_kindred  north_east  \n",
            "...                              ...         ...  \n",
            "4355  Craftsmen, Foremen_and_kindred         NaN  \n",
            "4356  Craftsmen, Foremen_and_kindred         NaN  \n",
            "4357  Craftsmen, Foremen_and_kindred         NaN  \n",
            "4358  Craftsmen, Foremen_and_kindred         NaN  \n",
            "4359  Craftsmen, Foremen_and_kindred         NaN  \n",
            "\n",
            "[4360 rows x 13 columns]\n"
          ]
        }
      ]
    },
    {
      "cell_type": "markdown",
      "source": [
        "# Missing Data"
      ],
      "metadata": {
        "id": "Bc4JWWhyyvbg"
      }
    },
    {
      "cell_type": "code",
      "source": [
        "missing_data = data.isnull().sum()\n",
        "print(\"Missing data count per column:\")\n",
        "print(missing_data)"
      ],
      "metadata": {
        "colab": {
          "base_uri": "https://localhost:8080/"
        },
        "id": "Cxt7jASunnD2",
        "outputId": "7cd8c700-90d6-4cf9-b0dd-5fcd9f13bef5"
      },
      "execution_count": 16,
      "outputs": [
        {
          "output_type": "stream",
          "name": "stdout",
          "text": [
            "Missing data count per column:\n",
            "rownames         0\n",
            "nr               0\n",
            "year             0\n",
            "school           0\n",
            "exper            0\n",
            "union            0\n",
            "ethn             0\n",
            "maried           0\n",
            "health           0\n",
            "wage             0\n",
            "industry         0\n",
            "occupation       0\n",
            "residence     1245\n",
            "dtype: int64\n"
          ]
        }
      ]
    },
    {
      "cell_type": "markdown",
      "source": [
        "Dropping missing values"
      ],
      "metadata": {
        "id": "KQml0hmcyz1o"
      }
    },
    {
      "cell_type": "code",
      "source": [
        "df_dropped_na = data.dropna()\n",
        "print(\"DataFrame after dropping missing values:\")\n",
        "print(df_dropped_na.head())\n",
        "\n",
        "data.isnull().values.any()"
      ],
      "metadata": {
        "colab": {
          "base_uri": "https://localhost:8080/"
        },
        "id": "cj0By9uSnspO",
        "outputId": "9a771046-917b-419d-800c-ea019ecd5876"
      },
      "execution_count": 17,
      "outputs": [
        {
          "output_type": "stream",
          "name": "stdout",
          "text": [
            "DataFrame after dropping missing values:\n",
            "   rownames  nr  year  school  exper union   ethn maried health      wage  \\\n",
            "0         1  13  1980      14      1    no  other     no     no  1.197540   \n",
            "1         2  13  1981      14      2   yes  other     no     no  1.853060   \n",
            "2         3  13  1982      14      3    no  other     no     no  1.344462   \n",
            "3         4  13  1983      14      4    no  other     no     no  1.433213   \n",
            "4         5  13  1984      14      5    no  other     no     no  1.568125   \n",
            "\n",
            "                      industry                      occupation   residence  \n",
            "0  Business_and_Repair_Service                 Service_Workers  north_east  \n",
            "1             Personal_Service                 Service_Workers  north_east  \n",
            "2  Business_and_Repair_Service                 Service_Workers  north_east  \n",
            "3  Business_and_Repair_Service                 Service_Workers  north_east  \n",
            "4             Personal_Service  Craftsmen, Foremen_and_kindred  north_east  \n"
          ]
        },
        {
          "output_type": "execute_result",
          "data": {
            "text/plain": [
              "True"
            ]
          },
          "metadata": {},
          "execution_count": 17
        }
      ]
    },
    {
      "cell_type": "markdown",
      "source": [
        "Filling missing values"
      ],
      "metadata": {
        "id": "GaHl9Pufy4bb"
      }
    },
    {
      "cell_type": "code",
      "source": [
        "df_filled_na = data.fillna(data.mean(numeric_only=True))\n",
        "print(\"DataFrame after filling missing values:\")\n",
        "print(df_filled_na.head())\n",
        "\n",
        "data.isnull().values.any()"
      ],
      "metadata": {
        "colab": {
          "base_uri": "https://localhost:8080/"
        },
        "id": "4Mr1ZkuHnvmq",
        "outputId": "8d2e497a-b9e3-4b9a-9bc5-663365e4a2bc"
      },
      "execution_count": 19,
      "outputs": [
        {
          "output_type": "stream",
          "name": "stdout",
          "text": [
            "DataFrame after filling missing values:\n",
            "   rownames  nr  year  school  exper union   ethn maried health      wage  \\\n",
            "0         1  13  1980      14      1    no  other     no     no  1.197540   \n",
            "1         2  13  1981      14      2   yes  other     no     no  1.853060   \n",
            "2         3  13  1982      14      3    no  other     no     no  1.344462   \n",
            "3         4  13  1983      14      4    no  other     no     no  1.433213   \n",
            "4         5  13  1984      14      5    no  other     no     no  1.568125   \n",
            "\n",
            "                      industry                      occupation   residence  \n",
            "0  Business_and_Repair_Service                 Service_Workers  north_east  \n",
            "1             Personal_Service                 Service_Workers  north_east  \n",
            "2  Business_and_Repair_Service                 Service_Workers  north_east  \n",
            "3  Business_and_Repair_Service                 Service_Workers  north_east  \n",
            "4             Personal_Service  Craftsmen, Foremen_and_kindred  north_east  \n"
          ]
        },
        {
          "output_type": "execute_result",
          "data": {
            "text/plain": [
              "True"
            ]
          },
          "metadata": {},
          "execution_count": 19
        }
      ]
    }
  ]
}